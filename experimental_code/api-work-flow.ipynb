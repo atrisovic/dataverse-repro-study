{
 "cells": [
  {
   "cell_type": "markdown",
   "metadata": {},
   "source": [
    "# Dataverse API workflow"
   ]
  },
  {
   "cell_type": "code",
   "execution_count": 9,
   "metadata": {},
   "outputs": [],
   "source": [
    "import requests\n",
    "import re"
   ]
  },
  {
   "cell_type": "code",
   "execution_count": 12,
   "metadata": {},
   "outputs": [],
   "source": [
    "# some constants\n",
    "dataverse_key = \"2a301287-c8e8-43f5-9862-cf084b310341\"\n",
    "max_retries=5\n",
    "\n",
    "# defining some constants\n",
    "r_file_query = \"fileContentType:type/x-r-syntax\"\n",
    "\n",
    "# initialize variables to store current state of scraping\n",
    "page_num = 0\n",
    "r_dois = []\n",
    "failures = 0\n",
    "numfiles = 0\n",
    "print_status=True"
   ]
  },
  {
   "cell_type": "markdown",
   "metadata": {},
   "source": [
    "# Get DOIs"
   ]
  },
  {
   "cell_type": "code",
   "execution_count": 13,
   "metadata": {},
   "outputs": [
    {
     "name": "stdout",
     "output_type": "stream",
     "text": [
      "Parsing results from page 0...\n"
     ]
    }
   ],
   "source": [
    "myresults = requests.get(\"https://dataverse.harvard.edu/api/search/\", \n",
    "                         params= {\"q\": r_file_query, \"type\": \"file\",\n",
    "                                              \"key\": dataverse_key, \"start\": str(1000 * page_num),\n",
    "                                              \"per_page\": str(1000)}).json()['data']['items']\n",
    "if print_status:\n",
    "    print(\"Parsing results from page {}...\".format(page_num))"
   ]
  },
  {
   "cell_type": "markdown",
   "metadata": {},
   "source": [
    "# extract the DOI (if any) from the result"
   ]
  },
  {
   "cell_type": "code",
   "execution_count": 14,
   "metadata": {},
   "outputs": [],
   "source": [
    "for myresult in myresults:\n",
    "    doi_match = re.search(\"(doi:[^,]*)\", myresult['dataset_persistent_id'])\n",
    "    if doi_match:\n",
    "        r_dois.append(doi_match.group(1) + '\\n')"
   ]
  },
  {
   "cell_type": "code",
   "execution_count": 15,
   "metadata": {},
   "outputs": [
    {
     "data": {
      "text/plain": [
       "{u'checksum': {u'type': u'MD5', u'value': u'4b077329d83599e1f59cc779d9477a02'},\n",
       " u'dataset_citation': u'Dolezal, Martin; Ennser-Jedenastik, Laurenz; M\\xc3\\xbcller, Wolfgang C.; Winkler, Anna Katharina, 2016, \"Replication data for: Analyzing Manifestos in their Electoral Context: A New Approach Applied to Austria, 2002\\xe2\\x80\\x932008\", https://doi.org/10.7910/DVN/27864, Harvard Dataverse, V1',\n",
       " u'dataset_id': u'46890',\n",
       " u'dataset_name': u'Replication data for: Analyzing Manifestos in their Electoral Context: A New Approach Applied to Austria, 2002\\xe2\\x80\\x932008',\n",
       " u'dataset_persistent_id': u'doi:10.7910/DVN/27864',\n",
       " u'description': u'',\n",
       " u'file_content_type': u'type/x-r-syntax',\n",
       " u'file_id': u'2507267',\n",
       " u'file_persistent_id': u'doi:10.7910/DVN/27864/EDKVG8',\n",
       " u'file_type': u'R Syntax',\n",
       " u'md5': u'4b077329d83599e1f59cc779d9477a02',\n",
       " u'name': u'replication appendix.r',\n",
       " u'published_at': u'2016-03-11T17:54:53Z',\n",
       " u'size_in_bytes': 26833,\n",
       " u'type': u'file',\n",
       " u'url': u'https://dataverse.harvard.edu/api/access/datafile/2507267'}"
      ]
     },
     "execution_count": 15,
     "metadata": {},
     "output_type": "execute_result"
    }
   ],
   "source": [
    "myresults[1]"
   ]
  },
  {
   "cell_type": "code",
   "execution_count": 16,
   "metadata": {},
   "outputs": [
    {
     "data": {
      "text/plain": [
       "[u'doi:10.7910/DVN/28763\\n', u'doi:10.7910/DVN/27864\\n']"
      ]
     },
     "execution_count": 16,
     "metadata": {},
     "output_type": "execute_result"
    }
   ],
   "source": [
    "dois = r_dois[:2]\n",
    "dois"
   ]
  },
  {
   "cell_type": "markdown",
   "metadata": {},
   "source": [
    "# Query the dataverse API for all the files in a dataverse"
   ]
  },
  {
   "cell_type": "code",
   "execution_count": 7,
   "metadata": {},
   "outputs": [
    {
     "name": "stdout",
     "output_type": "stream",
     "text": [
      "{u'status': u'ERROR', u'message': u\"'/api/v1/access/datafile/:persistentId' endpoint does not exist on this server. Please check your code for typos, or consult our API guide at http://guides.dataverse.org.\", u'code': 404}\n",
      "{u'status': u'ERROR', u'message': u\"'/api/v1/access/datafile/:persistentId' endpoint does not exist on this server. Please check your code for typos, or consult our API guide at http://guides.dataverse.org.\", u'code': 404}\n"
     ]
    }
   ],
   "source": [
    "for doi in dois:\n",
    "    files = requests.get(\n",
    "        \"https://dataverse.harvard.edu/api/access/datafile/:persistentId\", \n",
    "        params= {\"persistentId\": doi, \"key\": dataverse_key})\n",
    "    print(files.json())"
   ]
  },
  {
   "cell_type": "code",
   "execution_count": null,
   "metadata": {},
   "outputs": [],
   "source": [
    "files[1].json()['data']['latestVersion']['files']"
   ]
  },
  {
   "cell_type": "markdown",
   "metadata": {},
   "source": [
    "# convert DOI into a friendly directory name by replacing slashes and colons"
   ]
  },
  {
   "cell_type": "code",
   "execution_count": null,
   "metadata": {},
   "outputs": [],
   "source": [
    "doi_direct = storage_path + '/' + doi.replace(\"/\", \"-\").replace(\":\", \"--\")"
   ]
  },
  {
   "cell_type": "markdown",
   "metadata": {},
   "source": [
    "# make a new directory to store the dataset"
   ]
  },
  {
   "cell_type": "code",
   "execution_count": null,
   "metadata": {},
   "outputs": [],
   "source": [
    "if not os.path.exists(doi_direct):   \n",
    "    os.makedirs(doi_direct)"
   ]
  },
  {
   "cell_type": "markdown",
   "metadata": {},
   "source": [
    "# for each file result query the API for the file contents"
   ]
  },
  {
   "cell_type": "code",
   "execution_count": null,
   "metadata": {},
   "outputs": [],
   "source": [
    "for file in files:\n",
    "    # parse the filename and fileid \n",
    "    filename = file['dataFile']['filename']\n",
    "    fileid = file['dataFile']['id']\n",
    "    response = requests.get(\"https://dataverse.harvard.edu/api/access/datafile/\" + \n",
    "                            str(fileid), params={\"key\": dataverse_key})\n",
    "    # write the response to correctly-named file in the dataset directory\n",
    "    with open(doi_direct + \"/\" + filename, 'w') as handle:\n",
    "        handle.write(response.content)"
   ]
  },
  {
   "cell_type": "code",
   "execution_count": null,
   "metadata": {},
   "outputs": [],
   "source": []
  }
 ],
 "metadata": {
  "kernelspec": {
   "display_name": "Python 2",
   "language": "python",
   "name": "python2"
  },
  "language_info": {
   "codemirror_mode": {
    "name": "ipython",
    "version": 2
   },
   "file_extension": ".py",
   "mimetype": "text/x-python",
   "name": "python",
   "nbconvert_exporter": "python",
   "pygments_lexer": "ipython2",
   "version": "2.7.15"
  }
 },
 "nbformat": 4,
 "nbformat_minor": 2
}
