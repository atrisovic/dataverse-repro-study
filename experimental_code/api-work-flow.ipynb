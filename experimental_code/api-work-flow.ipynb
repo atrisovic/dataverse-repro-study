{
 "cells": [
  {
   "cell_type": "markdown",
   "metadata": {},
   "source": [
    "# Dataverse API workflow\n",
    "\n",
    "Agenda:\n",
    "\n",
    "-  Get the list of DOIs of R packages\n",
    "\n",
    "-  For each package get a list of files that it contains\n",
    "\n",
    "-  Download the files"
   ]
  },
  {
   "cell_type": "code",
   "execution_count": 1,
   "metadata": {},
   "outputs": [],
   "source": [
    "import requests\n",
    "import re"
   ]
  },
  {
   "cell_type": "code",
   "execution_count": 2,
   "metadata": {},
   "outputs": [],
   "source": [
    "# some constants\n",
    "dataverse_key = \"2a301287-c8e8-43f5-9862-cf084b310341\"\n",
    "max_retries=5\n",
    "\n",
    "# defining some constants\n",
    "r_file_query = \"fileContentType:type/x-r-syntax\"\n",
    "\n",
    "# initialize variables to store current state of scraping\n",
    "page_num = 0\n",
    "r_dois = []"
   ]
  },
  {
   "cell_type": "markdown",
   "metadata": {},
   "source": [
    "# 1. Get the list of DOIs"
   ]
  },
  {
   "cell_type": "code",
   "execution_count": 3,
   "metadata": {},
   "outputs": [
    {
     "name": "stdout",
     "output_type": "stream",
     "text": [
      "Parsing results from page 0...\n"
     ]
    }
   ],
   "source": [
    "myresults = requests.get(\"https://dataverse.harvard.edu/api/search/\", \n",
    "                         params= {\"q\": r_file_query, \"type\": \"file\",\n",
    "                                              \"key\": dataverse_key, \"start\": str(1000 * page_num),\n",
    "                                              \"per_page\": str(1000)}).json()['data']['items']\n",
    "\n",
    "print(\"Parsing results from page {}...\".format(page_num))"
   ]
  },
  {
   "cell_type": "markdown",
   "metadata": {},
   "source": [
    "## extract the DOI (if any) from the result"
   ]
  },
  {
   "cell_type": "code",
   "execution_count": 4,
   "metadata": {},
   "outputs": [],
   "source": [
    "for myresult in myresults:\n",
    "    doi_match = re.search(\"(doi:[^,]*)\", myresult['dataset_persistent_id'])\n",
    "    if doi_match:\n",
    "        r_dois.append(doi_match.group(1) + '\\n')"
   ]
  },
  {
   "cell_type": "code",
   "execution_count": 5,
   "metadata": {},
   "outputs": [
    {
     "data": {
      "text/plain": [
       "{u'checksum': {u'type': u'MD5', u'value': u'4b077329d83599e1f59cc779d9477a02'},\n",
       " u'dataset_citation': u'Dolezal, Martin; Ennser-Jedenastik, Laurenz; M\\xc3\\xbcller, Wolfgang C.; Winkler, Anna Katharina, 2016, \"Replication data for: Analyzing Manifestos in their Electoral Context: A New Approach Applied to Austria, 2002\\xe2\\x80\\x932008\", https://doi.org/10.7910/DVN/27864, Harvard Dataverse, V1',\n",
       " u'dataset_id': u'46890',\n",
       " u'dataset_name': u'Replication data for: Analyzing Manifestos in their Electoral Context: A New Approach Applied to Austria, 2002\\xe2\\x80\\x932008',\n",
       " u'dataset_persistent_id': u'doi:10.7910/DVN/27864',\n",
       " u'description': u'',\n",
       " u'file_content_type': u'type/x-r-syntax',\n",
       " u'file_id': u'2507267',\n",
       " u'file_persistent_id': u'doi:10.7910/DVN/27864/EDKVG8',\n",
       " u'file_type': u'R Syntax',\n",
       " u'md5': u'4b077329d83599e1f59cc779d9477a02',\n",
       " u'name': u'replication appendix.r',\n",
       " u'published_at': u'2016-03-11T17:54:53Z',\n",
       " u'size_in_bytes': 26833,\n",
       " u'type': u'file',\n",
       " u'url': u'https://dataverse.harvard.edu/api/access/datafile/2507267'}"
      ]
     },
     "execution_count": 5,
     "metadata": {},
     "output_type": "execute_result"
    }
   ],
   "source": [
    "myresults[1]"
   ]
  },
  {
   "cell_type": "code",
   "execution_count": 6,
   "metadata": {},
   "outputs": [
    {
     "data": {
      "text/plain": [
       "u'doi:10.7910/DVN/27864\\n'"
      ]
     },
     "execution_count": 6,
     "metadata": {},
     "output_type": "execute_result"
    }
   ],
   "source": [
    "doi = r_dois[1]\n",
    "doi"
   ]
  },
  {
   "cell_type": "markdown",
   "metadata": {},
   "source": [
    "# 2. Get the list of files in the package"
   ]
  },
  {
   "cell_type": "code",
   "execution_count": 7,
   "metadata": {},
   "outputs": [],
   "source": [
    "files = requests.get(\n",
    "        \"https://dataverse.harvard.edu/api/datasets/export?exporter=dataverse_json&persistentId={0}\".format(doi),\n",
    "        params= {\"key\": dataverse_key})"
   ]
  },
  {
   "cell_type": "code",
   "execution_count": 12,
   "metadata": {},
   "outputs": [
    {
     "data": {
      "text/plain": [
       "[u'publisher',\n",
       " u'protocol',\n",
       " u'authority',\n",
       " u'datasetVersion',\n",
       " u'publicationDate',\n",
       " u'persistentUrl',\n",
       " u'identifier',\n",
       " u'id']"
      ]
     },
     "execution_count": 12,
     "metadata": {},
     "output_type": "execute_result"
    }
   ],
   "source": [
    "files.json().keys()"
   ]
  },
  {
   "cell_type": "code",
   "execution_count": 13,
   "metadata": {},
   "outputs": [],
   "source": [
    "import json\n",
    "json_data = json.loads(files.text)"
   ]
  },
  {
   "cell_type": "markdown",
   "metadata": {},
   "source": [
    "## find in dict the list of files "
   ]
  },
  {
   "cell_type": "code",
   "execution_count": 14,
   "metadata": {},
   "outputs": [],
   "source": [
    "files_list = json_data['datasetVersion']['files']"
   ]
  },
  {
   "cell_type": "code",
   "execution_count": 15,
   "metadata": {},
   "outputs": [
    {
     "data": {
      "text/plain": [
       "{u'dataFile': {u'contentType': u'text/plain; charset=US-ASCII',\n",
       "  u'description': u'',\n",
       "  u'filename': u'crimpunish.csv',\n",
       "  u'id': 2507229,\n",
       "  u'md5': u'7f9aec0fb547c6dd39edff91b5a85279',\n",
       "  u'originalFormatLabel': u'UNKNOWN',\n",
       "  u'storageIdentifier': u'266210'},\n",
       " u'datasetVersionId': 42985,\n",
       " u'description': u'',\n",
       " u'label': u'crimpunish.csv',\n",
       " u'version': 1}"
      ]
     },
     "execution_count": 15,
     "metadata": {},
     "output_type": "execute_result"
    }
   ],
   "source": [
    "files_list[1]"
   ]
  },
  {
   "cell_type": "markdown",
   "metadata": {},
   "source": [
    "# 3. Get each file contents"
   ]
  },
  {
   "cell_type": "code",
   "execution_count": 16,
   "metadata": {},
   "outputs": [
    {
     "data": {
      "text/plain": [
       "2507229"
      ]
     },
     "execution_count": 16,
     "metadata": {},
     "output_type": "execute_result"
    }
   ],
   "source": [
    "f = files_list[1]\n",
    "filename = f['dataFile']['filename']\n",
    "fileid = f['dataFile']['id']\n",
    "fileid"
   ]
  },
  {
   "cell_type": "code",
   "execution_count": 17,
   "metadata": {},
   "outputs": [],
   "source": [
    "response = requests.get(\"https://dataverse.harvard.edu/api/access/datafile/\" + \n",
    "                            str(fileid), params={\"key\": dataverse_key})"
   ]
  },
  {
   "cell_type": "code",
   "execution_count": 18,
   "metadata": {},
   "outputs": [
    {
     "data": {
      "text/plain": [
       "<Response [200]>"
      ]
     },
     "execution_count": 18,
     "metadata": {},
     "output_type": "execute_result"
    }
   ],
   "source": [
    "response"
   ]
  },
  {
   "cell_type": "code",
   "execution_count": null,
   "metadata": {},
   "outputs": [],
   "source": []
  }
 ],
 "metadata": {
  "kernelspec": {
   "display_name": "Python 2",
   "language": "python",
   "name": "python2"
  },
  "language_info": {
   "codemirror_mode": {
    "name": "ipython",
    "version": 2
   },
   "file_extension": ".py",
   "mimetype": "text/x-python",
   "name": "python",
   "nbconvert_exporter": "python",
   "pygments_lexer": "ipython2",
   "version": "2.7.15"
  }
 },
 "nbformat": 4,
 "nbformat_minor": 2
}
